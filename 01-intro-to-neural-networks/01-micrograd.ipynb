{
 "cells": [
  {
   "cell_type": "markdown",
   "metadata": {},
   "source": [
    "### Derivative of a simple function with one input"
   ]
  },
  {
   "cell_type": "code",
   "execution_count": 2,
   "metadata": {},
   "outputs": [],
   "source": [
    "import math\n",
    "import numpy as np\n",
    "import matplotlib.pyplot as plt\n",
    "%matplotlib inline"
   ]
  },
  {
   "cell_type": "code",
   "execution_count": 3,
   "metadata": {},
   "outputs": [],
   "source": [
    "def f(x):\n",
    "    # Return the value of the function at x. The function defines a parabola.\n",
    "    return 3*x**2 + 2*x + 1"
   ]
  },
  {
   "cell_type": "code",
   "execution_count": 4,
   "metadata": {},
   "outputs": [
    {
     "name": "stdout",
     "output_type": "stream",
     "text": [
      "xs: [-10  -9  -8  -7  -6  -5  -4  -3  -2  -1   0   1   2   3   4   5   6   7\n",
      "   8   9  10]\n",
      "ys: [281 226 177 134  97  66  41  22   9   2   1   6  17  34  57  86 121 162\n",
      " 209 262 321]\n"
     ]
    }
   ],
   "source": [
    "# Create an array of xs values from -10 to 10\n",
    "xs = np.arange(-10, 11, 1)\n",
    "print(\"xs:\", xs)\n",
    "# Create an array of ys values by applying the function to each value of xs\n",
    "ys = f(xs)\n",
    "print(\"ys:\", ys)"
   ]
  },
  {
   "cell_type": "code",
   "execution_count": 5,
   "metadata": {},
   "outputs": [
    {
     "data": {
      "text/plain": [
       "[<matplotlib.lines.Line2D at 0x7faf263fbbb0>]"
      ]
     },
     "execution_count": 5,
     "metadata": {},
     "output_type": "execute_result"
    },
    {
     "data": {
      "image/png": "[encoded data removed]",
      "text/plain": [
       "<Figure size 640x480 with 1 Axes>"
      ]
     },
     "metadata": {},
     "output_type": "display_data"
    }
   ],
   "source": [
    "# Plot the values of xs and ys\n",
    "plt.plot(xs, ys)"
   ]
  },
  {
   "cell_type": "markdown",
   "metadata": {},
   "source": [
    "### Definition of a Derivative\n",
    "\n",
    "The **derivative** of a function measures how the function's output changes with respect to a change in its input. It represents the **instantaneous rate of change** or the **slope of the tangent line** at a given point on the function's graph.\n",
    "\n",
    "![Derivativatives Mathematically](./images/01-derivatives.png)\n",
    "\n",
    "**Key Interpretations:**\n",
    "1. **Geometric Interpretation**: The derivative gives the slope of the function at a particular point.\n",
    "2. **Physical Interpretation**: In physics, the derivative of position with respect to time gives velocity, and the derivative of velocity gives acceleration.\n",
    "3. **Computational Importance**: Derivatives are crucial in optimization, such as in gradient descent for training neural networks.\n"
   ]
  },
  {
   "cell_type": "code",
   "execution_count": 6,
   "metadata": {},
   "outputs": [],
   "source": [
    "def df(x, h):\n",
    "    # Return the value of the derivative of the function at x.\n",
    "    return (f(x+h) - f(x))/h"
   ]
  },
  {
   "cell_type": "code",
   "execution_count": 7,
   "metadata": {},
   "outputs": [
    {
     "name": "stdout",
     "output_type": "stream",
     "text": [
      "44.00000301529872\n"
     ]
    }
   ],
   "source": [
    "# Test x = 7 and x = -7 \n",
    "# The intitution is that the derivative at x = 7 is +ve and at x = -7 is -ve \n",
    "# which explains that the function is increasing at x = 7 and decreasing at x = -7 for samll increase in x with h=0.000001)\n",
    "x = 7\n",
    "h = 0.000001\n",
    "# Perform the derivative of the function at x\n",
    "derivative = df(x, h)\n",
    "print(derivative)"
   ]
  },
  {
   "cell_type": "markdown",
   "metadata": {},
   "source": [
    "### Derivative of a function with multiple inputs"
   ]
  },
  {
   "cell_type": "code",
   "execution_count": 8,
   "metadata": {},
   "outputs": [
    {
     "name": "stdout",
     "output_type": "stream",
     "text": [
      "d1: 3.0\n",
      "d2: 3.000001\n",
      "Approximate derivative: 1.000000000139778\n",
      "Actual Derivative: 1\n",
      "Error: 1.397779669787269e-10\n"
     ]
    }
   ],
   "source": [
    "a = 2.0\n",
    "b = -1.0\n",
    "c = 5.0\n",
    "delta_c = 0.000001  \n",
    "\n",
    "# Define the function \n",
    "def calculate_d(a, b, c):\n",
    "  return a * b + c\n",
    "\n",
    "# Calculate d1 and d2\n",
    "d1 = calculate_d(a, b, c)\n",
    "d2 = calculate_d(a, b, c + delta_c)\n",
    "\n",
    "# Calculate and print the slope (derivative approximation)\n",
    "slope = (d2 - d1) / delta_c\n",
    "\n",
    "print('d1:', d1)\n",
    "print('d2:', d2)\n",
    "print('Approximate derivative:', slope)\n",
    "\n",
    "# Calculate and print the actual derivative (for comparison)\n",
    "actual_derivative = 1  # The derivative of a*b + c with respect to c is 1\n",
    "print(\"Actual Derivative:\", actual_derivative)\n",
    "print(\"Error:\", abs(slope-actual_derivative)) #Calculate the error"
   ]
  },
  {
   "cell_type": "markdown",
   "metadata": {},
   "source": [
    "### Core value object of micrograd"
   ]
  },
  {
   "cell_type": "code",
   "execution_count": 9,
   "metadata": {},
   "outputs": [
    {
     "data": {
      "text/plain": [
       "Value(data=3.0)"
      ]
     },
     "execution_count": 9,
     "metadata": {},
     "output_type": "execute_result"
    }
   ],
   "source": [
    "class Value:\n",
    "    def __init__(self, data, _children=(), _op=''):\n",
    "        \"\"\"\n",
    "        Initializes a Value object.\n",
    "        \n",
    "        Args:\n",
    "        data: The numerical value stored in the Value object.\n",
    "        _childre: A tuple containing the child nodes of the Value object.\n",
    "        _op: The operation performed on the child nodes.\n",
    "        \"\"\"\n",
    "        self.data = data    # The numerical value stored in the Value object.\n",
    "        self._prev = set(_children) # A set containing the child nodes of the Value object.\n",
    "        self._op = _op  # The operation performed on the child nodes (+, *, - etc.).\n",
    "\n",
    "    def __repr__(self):\n",
    "        \"\"\"\n",
    "        Returns a string representation of the Value object.\n",
    "        \"\"\"\n",
    "        return f\"Value(data={self.data})\"\n",
    "    \n",
    "    def __add__(self, other):\n",
    "        \"\"\"\n",
    "        Defines the addition operation for the Value object.\n",
    "\n",
    "        Args:\n",
    "        other: The other Value object to be added.\n",
    "\n",
    "        Returns:\n",
    "        A new Value object containing the result of the addition operation.\n",
    "        \"\"\"\n",
    "        out = Value(self.data + other.data, (self, other), '+') # Create a new Value object with the result of the addition operation.\n",
    "        return out\n",
    "\n",
    "    def __mul__(self, other):\n",
    "        \"\"\"\n",
    "        Defines the multiplication operation for the Value object.\n",
    "        \n",
    "        Args:\n",
    "        other: The other Value object to be multiplied.\n",
    "\n",
    "        Returns:\n",
    "        A new Value object containing the result of the multiplication operation.\n",
    "        \"\"\"\n",
    "        out = Value(self.data * other.data, (self, other), '*') # Create a new Value object with the result of the multiplication operation.\n",
    "        return out    \n",
    "    \n",
    "# Example usage\n",
    "a = Value(data=2.0)\n",
    "b = Value(data=-1.0)\n",
    "c = Value(data=5.0)\n",
    "d= a*b+c\n",
    "d"
   ]
  },
  {
   "cell_type": "code",
   "execution_count": 12,
   "metadata": {},
   "outputs": [
    {
     "name": "stdout",
     "output_type": "stream",
     "text": [
      "Child nodes: {Value(data=5.0), Value(data=-2.0)}, Operation: '+'\n"
     ]
    }
   ],
   "source": [
    "print(f\"Child nodes: {d._prev}, Operation: '{d._op}'\")"
   ]
  },
  {
   "cell_type": "code",
   "execution_count": null,
   "metadata": {},
   "outputs": [],
   "source": [
    "from graphviz import Digraph\n",
    "\n",
    "def trace(root):\n",
    "  # builds a set of all nodes and edges in a graph\n",
    "  nodes, edges = set(), set()\n",
    "  def build(v):\n",
    "    if v not in nodes:\n",
    "      nodes.add(v)\n",
    "      for child in v._prev:\n",
    "        edges.add((child, v))\n",
    "        build(child)\n",
    "  build(root)\n",
    "  return nodes, edges\n",
    "\n",
    "def draw_dot(root):\n",
    "  dot = Digraph(format='svg', graph_attr={'rankdir': 'LR'}) # LR = left to right\n",
    "  \n",
    "  nodes, edges = trace(root)\n",
    "  for n in nodes:\n",
    "    uid = str(id(n))\n",
    "    # for any value in the graph, create a rectangular ('record') node for it\n",
    "    dot.node(name = uid, label = \"{ %s | data %.4f | grad %.4f }\" % (n.label, n.data, n.grad), shape='record')\n",
    "    if n._op:\n",
    "      # if this value is a result of some operation, create an op node for it\n",
    "      dot.node(name = uid + n._op, label = n._op)\n",
    "      # and connect this node to it\n",
    "      dot.edge(uid + n._op, uid)\n",
    "\n",
    "  for n1, n2 in edges:\n",
    "    # connect n1 to the op node of n2\n",
    "    dot.edge(str(id(n1)), str(id(n2)) + n2._op)\n",
    "\n",
    "  return dot"
   ]
  }
 ],
 "metadata": {
  "kernelspec": {
   "display_name": "venv_310",
   "language": "python",
   "name": "python3"
  },
  "language_info": {
   "codemirror_mode": {
    "name": "ipython",
    "version": 3
   },
   "file_extension": ".py",
   "mimetype": "text/x-python",
   "name": "python",
   "nbconvert_exporter": "python",
   "pygments_lexer": "ipython3",
   "version": "3.10.0"
  }
 },
 "nbformat": 4,
 "nbformat_minor": 2
}
